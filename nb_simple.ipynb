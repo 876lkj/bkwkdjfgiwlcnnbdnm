{
 "cells": [
  {
   "cell_type": "code",
   "execution_count": 1,
   "metadata": {},
   "outputs": [
    {
     "name": "stderr",
     "output_type": "stream",
     "text": [
      "Using TensorFlow backend.\n"
     ]
    }
   ],
   "source": [
    "%matplotlib inline\n",
    "from nikmod import nik\n",
    "import pandas as pd\n",
    "import scipy.special as special\n",
    "import tensorflow as tf\n",
    "import keras"
   ]
  },
  {
   "cell_type": "code",
   "execution_count": 2,
   "metadata": {},
   "outputs": [
    {
     "data": {
      "text/html": [
       "<div>\n",
       "<table border=\"1\" class=\"dataframe\">\n",
       "  <thead>\n",
       "    <tr style=\"text-align: right;\">\n",
       "      <th></th>\n",
       "      <th>utr</th>\n",
       "      <th>N45a</th>\n",
       "      <th>pPAS</th>\n",
       "      <th>N45b</th>\n",
       "      <th>dPAS</th>\n",
       "      <th>N45c</th>\n",
       "      <th>p</th>\n",
       "      <th>d</th>\n",
       "    </tr>\n",
       "  </thead>\n",
       "  <tbody>\n",
       "    <tr>\n",
       "      <th>0</th>\n",
       "      <td>sim</td>\n",
       "      <td>GTTCGTTCCATTTGCCACTAACGTGTGCAATGTATCTCTCATGTG</td>\n",
       "      <td>AATACA</td>\n",
       "      <td>TTTGAAAGTATTCTTACACCTCCTAATTGTACCTGTTGGCAAATT</td>\n",
       "      <td>ATTAAA</td>\n",
       "      <td>ATTATTGTGAAAATTGCTGTGGGTCGTAGGTCTAGTAGTTTTGGG</td>\n",
       "      <td>941</td>\n",
       "      <td>575</td>\n",
       "    </tr>\n",
       "    <tr>\n",
       "      <th>1</th>\n",
       "      <td>sim</td>\n",
       "      <td>ACAAGCGCTGGTCGGCGTAACTCGAAGTAATGATATCATCCCATG</td>\n",
       "      <td>AATAAC</td>\n",
       "      <td>TTGCAAGGTTATATTAGTGCCTCTTGGCTTCAATAAAATCATTTA</td>\n",
       "      <td>ACTACA</td>\n",
       "      <td>ACATTCATGTGTCCACGTGGTGCGTTGGCCAGTCTGTCTTTTACT</td>\n",
       "      <td>907</td>\n",
       "      <td>536</td>\n",
       "    </tr>\n",
       "    <tr>\n",
       "      <th>2</th>\n",
       "      <td>sim</td>\n",
       "      <td>GCGCCCCTTGAATACGCGGGTCTAGTGTTCCGCCATGTATGCTAC</td>\n",
       "      <td>AATAAA</td>\n",
       "      <td>ATCCTCTTTTCCTACCTATTGTCTCTTCTTGTAAAGCATTTTGCA</td>\n",
       "      <td>AATAAA</td>\n",
       "      <td>TTGTTCGTTGTTGTGTAGGACCATATGCGGGGGTTAAGTGCGGCT</td>\n",
       "      <td>1153</td>\n",
       "      <td>18</td>\n",
       "    </tr>\n",
       "    <tr>\n",
       "      <th>3</th>\n",
       "      <td>sim</td>\n",
       "      <td>TCTCTGTGTCTGGTACATACAACCCTAAGCTGTAAACAGTGGTTC</td>\n",
       "      <td>AATAAA</td>\n",
       "      <td>TTTATTTACTGGCATCACCTCATCTATCCCTTTTTGTGGTGTGAG</td>\n",
       "      <td>ATTAAA</td>\n",
       "      <td>GGGTTTTACTCTAGGGGGCGAGTCCGTTATGTTTTACTCCCTACA</td>\n",
       "      <td>1077</td>\n",
       "      <td>9</td>\n",
       "    </tr>\n",
       "    <tr>\n",
       "      <th>4</th>\n",
       "      <td>sim</td>\n",
       "      <td>TGCAAGCGTTAGGGGTTCGATTCCTCTGTTAGAGAGTTGGTATTC</td>\n",
       "      <td>AATAAA</td>\n",
       "      <td>CACCGGCTCTATTTTTTTGTTTTATGATTCTTATGTCAAGTGGTT</td>\n",
       "      <td>ATCAAA</td>\n",
       "      <td>TTAAAGATCTTCTAGTGTATATAATCTCTACAACTATCTTATGGG</td>\n",
       "      <td>995</td>\n",
       "      <td>58</td>\n",
       "    </tr>\n",
       "  </tbody>\n",
       "</table>\n",
       "</div>"
      ],
      "text/plain": [
       "   utr                                           N45a    pPAS  \\\n",
       "0  sim  GTTCGTTCCATTTGCCACTAACGTGTGCAATGTATCTCTCATGTG  AATACA   \n",
       "1  sim  ACAAGCGCTGGTCGGCGTAACTCGAAGTAATGATATCATCCCATG  AATAAC   \n",
       "2  sim  GCGCCCCTTGAATACGCGGGTCTAGTGTTCCGCCATGTATGCTAC  AATAAA   \n",
       "3  sim  TCTCTGTGTCTGGTACATACAACCCTAAGCTGTAAACAGTGGTTC  AATAAA   \n",
       "4  sim  TGCAAGCGTTAGGGGTTCGATTCCTCTGTTAGAGAGTTGGTATTC  AATAAA   \n",
       "\n",
       "                                            N45b    dPAS  \\\n",
       "0  TTTGAAAGTATTCTTACACCTCCTAATTGTACCTGTTGGCAAATT  ATTAAA   \n",
       "1  TTGCAAGGTTATATTAGTGCCTCTTGGCTTCAATAAAATCATTTA  ACTACA   \n",
       "2  ATCCTCTTTTCCTACCTATTGTCTCTTCTTGTAAAGCATTTTGCA  AATAAA   \n",
       "3  TTTATTTACTGGCATCACCTCATCTATCCCTTTTTGTGGTGTGAG  ATTAAA   \n",
       "4  CACCGGCTCTATTTTTTTGTTTTATGATTCTTATGTCAAGTGGTT  ATCAAA   \n",
       "\n",
       "                                            N45c     p    d  \n",
       "0  ATTATTGTGAAAATTGCTGTGGGTCGTAGGTCTAGTAGTTTTGGG   941  575  \n",
       "1  ACATTCATGTGTCCACGTGGTGCGTTGGCCAGTCTGTCTTTTACT   907  536  \n",
       "2  TTGTTCGTTGTTGTGTAGGACCATATGCGGGGGTTAAGTGCGGCT  1153   18  \n",
       "3  GGGTTTTACTCTAGGGGGCGAGTCCGTTATGTTTTACTCCCTACA  1077    9  \n",
       "4  TTAAAGATCTTCTAGTGTATATAATCTCTACAACTATCTTATGGG   995   58  "
      ]
     },
     "execution_count": 2,
     "metadata": {},
     "output_type": "execute_result"
    }
   ],
   "source": [
    "sim = pd.read_pickle('simple.pkl')\n",
    "sim.head()"
   ]
  },
  {
   "cell_type": "code",
   "execution_count": 3,
   "metadata": {},
   "outputs": [
    {
     "data": {
      "image/png": "[encoded data removed]",
      "text/plain": [
       "<matplotlib.figure.Figure at 0x7f7ba9407150>"
      ]
     },
     "metadata": {},
     "output_type": "display_data"
    }
   ],
   "source": [
    "sim['n'] = sim['p'] + sim['d']; sim.query('n >= 10')\n",
    "sim['a'] = sim['N45b'].apply(lambda x: x.count('A'))#; sim.query('a >= 12')\n",
    "sim['p'] = sim['p'].apply(lambda x: 0.99 if x == 0 else x)\n",
    "sim['d'] = sim['d'].apply(lambda x: 0.99 if x == 0 else x)\n",
    "sim['logit'] = special.logit(sim['p']/(sim['p']+sim['d']))*-1 \n",
    "sim.sort_values('n',ascending=False,inplace=True)\n",
    "sim.reset_index(drop=True,inplace=True)\n",
    "sim['logit'].hist(bins=50,grid=False);"
   ]
  },
  {
   "cell_type": "code",
   "execution_count": 4,
   "metadata": {
    "collapsed": true
   },
   "outputs": [],
   "source": [
    "seqs = sim['N45a']+sim['pPAS']+sim['N45b']+sim['dPAS']+sim['N45c']\n",
    "# seqs = sim['N45a']+sim['N45b']+sim['N45c']\n",
    "seqs = nik.one_hot_encoder(seqs)\n",
    "vals = sim['logit']; del sim"
   ]
  },
  {
   "cell_type": "code",
   "execution_count": 5,
   "metadata": {},
   "outputs": [
    {
     "name": "stdout",
     "output_type": "stream",
     "text": [
      "train:            1,627,149\n",
      "test:               180,794\n"
     ]
    }
   ],
   "source": [
    "seqs_train, seqs_test, vals_train, vals_test = nik.seq_data_splitter(seqs,vals,split=.1)"
   ]
  },
  {
   "cell_type": "code",
   "execution_count": 6,
   "metadata": {
    "collapsed": true
   },
   "outputs": [],
   "source": [
    "from sklearn import preprocessing\n",
    "vals_train = preprocessing.StandardScaler().fit_transform(vals_train.values.reshape(-1,1))\n",
    "vals_test = preprocessing.StandardScaler().fit_transform(vals_test.values.reshape(-1,1))"
   ]
  },
  {
   "cell_type": "code",
   "execution_count": 7,
   "metadata": {},
   "outputs": [
    {
     "name": "stdout",
     "output_type": "stream",
     "text": [
      "_________________________________________________________________\n",
      "Layer (type)                 Output Shape              Param #   \n",
      "=================================================================\n",
      "conv1d_1 (Conv1D)            (None, 147, 100)          3300      \n",
      "_________________________________________________________________\n",
      "conv1d_2 (Conv1D)            (None, 147, 100)          80100     \n",
      "_________________________________________________________________\n",
      "flatten_1 (Flatten)          (None, 14700)             0         \n",
      "_________________________________________________________________\n",
      "dense_1 (Dense)              (None, 100)               1470100   \n",
      "_________________________________________________________________\n",
      "dropout_1 (Dropout)          (None, 100)               0         \n",
      "_________________________________________________________________\n",
      "activation_1 (Activation)    (None, 100)               0         \n",
      "_________________________________________________________________\n",
      "dense_2 (Dense)              (None, 1)                 101       \n",
      "_________________________________________________________________\n",
      "activation_2 (Activation)    (None, 1)                 0         \n",
      "=================================================================\n",
      "Total params: 1,553,601\n",
      "Trainable params: 1,553,601\n",
      "Non-trainable params: 0\n",
      "_________________________________________________________________\n"
     ]
    }
   ],
   "source": [
    "simple_cnn = nik.cnn_constructor(seqs_train,nf1=100,nf2=100,ks1=8,ks2=8,dense=100); simple_cnn.summary()"
   ]
  },
  {
   "cell_type": "code",
   "execution_count": 8,
   "metadata": {},
   "outputs": [
    {
     "name": "stdout",
     "output_type": "stream",
     "text": [
      "Epoch 1/6\n",
      "1627149/1627149 [==============================] - 206s - loss: 0.3727   \n",
      "Epoch 2/6\n",
      "1627149/1627149 [==============================] - 219s - loss: 0.3398   \n",
      "Epoch 3/6\n",
      "1627149/1627149 [==============================] - 222s - loss: 0.3310   \n",
      "Epoch 4/6\n",
      "1627149/1627149 [==============================] - 222s - loss: 0.3263   \n",
      "Epoch 5/6\n",
      "1627149/1627149 [==============================] - 222s - loss: 0.3230   \n",
      "Epoch 6/6\n",
      "1627149/1627149 [==============================] - 222s - loss: 0.3204   \n"
     ]
    },
    {
     "data": {
      "text/plain": [
       "<keras.callbacks.History at 0x7f7b7e9742d0>"
      ]
     },
     "execution_count": 8,
     "metadata": {},
     "output_type": "execute_result"
    }
   ],
   "source": [
    "adam = keras.optimizers.Adam(lr=0.001, beta_1=0.9, beta_2=0.999, epsilon=1e-08)\n",
    "simple_cnn.compile(loss='mean_squared_error', optimizer=adam)\n",
    "simple_cnn.fit(seqs_train, vals_train, batch_size=100, epochs=6, verbose=1)"
   ]
  },
  {
   "cell_type": "code",
   "execution_count": 9,
   "metadata": {
    "collapsed": true
   },
   "outputs": [],
   "source": [
    "simple_cnn.save('simple_cnn.h5')"
   ]
  },
  {
   "cell_type": "code",
   "execution_count": 10,
   "metadata": {},
   "outputs": [
    {
     "data": {
      "image/png": "[encoded data removed]",
      "text/plain": [
       "<matplotlib.figure.Figure at 0x7f7b859b5910>"
      ]
     },
     "metadata": {},
     "output_type": "display_data"
    }
   ],
   "source": [
    "vals_test = vals_test.flatten()\n",
    "pred = simple_cnn.predict(seqs_test).flatten()\n",
    "nik.pred_scatter(vals_test,pred,title='SIMPLE.CNN',r2=True)"
   ]
  }
 ],
 "metadata": {
  "kernelspec": {
   "display_name": "Python 2",
   "language": "python",
   "name": "python2"
  },
  "language_info": {
   "codemirror_mode": {
    "name": "ipython",
    "version": 2
   },
   "file_extension": ".py",
   "mimetype": "text/x-python",
   "name": "python",
   "nbconvert_exporter": "python",
   "pygments_lexer": "ipython2",
   "version": "2.7.13"
  }
 },
 "nbformat": 4,
 "nbformat_minor": 2
}
