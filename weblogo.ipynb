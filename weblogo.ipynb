{
 "cells": [
  {
   "cell_type": "code",
   "execution_count": 4,
   "metadata": {},
   "outputs": [],
   "source": [
    "import weblogolib\n",
    "from IPython.display import HTML\n",
    "import numpy"
   ]
  },
  {
   "cell_type": "code",
   "execution_count": 10,
   "metadata": {},
   "outputs": [
    {
     "data": {
      "text/html": [
       "<img src=\"logo_test.png\">"
      ],
      "text/plain": [
       "<IPython.core.display.HTML object>"
      ]
     },
     "execution_count": 10,
     "metadata": {},
     "output_type": "execute_result"
    }
   ],
   "source": [
    "A = [1,0,0,0]\n",
    "C = [0,1,0,0]\n",
    "G = [0,0,1,0]\n",
    "T = [0,0,0,1]\n",
    "N = [0,0,0,0]\n",
    "\n",
    "pwm = numpy.array([N,A,A,T,A,A,A,N])\n",
    "\n",
    "lol = len(pwm)\n",
    "\n",
    "data = weblogolib.LogoData.from_counts('ACGT', pwm)\n",
    "\n",
    "color_rules = []\n",
    "color_rules.append(weblogolib.SymbolColor(\"A\", \"red\"))\n",
    "color_rules.append(weblogolib.SymbolColor(\"C\", \"blue\"))\n",
    "color_rules.append(weblogolib.SymbolColor(\"G\", \"orange\"))\n",
    "color_rules.append(weblogolib.SymbolColor(\"T\", \"green\"))\n",
    "colors = weblogolib.ColorScheme(color_rules)\n",
    "\n",
    "options = weblogolib.LogoOptions(fineprint=False,\n",
    "                                 logo_title=\"\",\n",
    "                                 logo_label= \"\",\n",
    "                                 stroke_width=1,\n",
    "                                 color_scheme=colors,\n",
    "                                 stack_width=weblogolib.std_sizes[\"large\"],\n",
    "                                 logo_start=1, logo_end=lol, stacks_per_line=lol)\n",
    "\n",
    "logo_format = weblogolib.LogoFormat(data, options)\n",
    "formatter = weblogolib.formatters['png']\n",
    "eps = formatter(data, logo_format)\n",
    "\n",
    "with open('logo_test.png', \"w\") as f:\n",
    "    f.write(eps)\n",
    "    \n",
    "HTML('<img src=\"logo_test.png\">')"
   ]
  },
  {
   "cell_type": "code",
   "execution_count": null,
   "metadata": {},
   "outputs": [],
   "source": []
  }
 ],
 "metadata": {
  "kernelspec": {
   "display_name": "Python 2",
   "language": "python",
   "name": "python2"
  },
  "language_info": {
   "codemirror_mode": {
    "name": "ipython",
    "version": 2
   },
   "file_extension": ".py",
   "mimetype": "text/x-python",
   "name": "python",
   "nbconvert_exporter": "python",
   "pygments_lexer": "ipython2",
   "version": "2.7.13"
  }
 },
 "nbformat": 4,
 "nbformat_minor": 2
}
